{
  "nbformat": 4,
  "nbformat_minor": 0,
  "metadata": {
    "colab": {
      "provenance": [],
      "include_colab_link": true
    },
    "language_info": {
      "name": "python"
    },
    "kernelspec": {
      "name": "python3",
      "display_name": "Python 3"
    }
  },
  "cells": [
    {
      "cell_type": "markdown",
      "metadata": {
        "id": "view-in-github",
        "colab_type": "text"
      },
      "source": [
        "<a href=\"https://colab.research.google.com/github/arcossci/gemini_tools_examples/blob/main/using_search_tool.ipynb\" target=\"_parent\"><img src=\"https://colab.research.google.com/assets/colab-badge.svg\" alt=\"Open In Colab\"/></a>"
      ]
    },
    {
      "cell_type": "markdown",
      "metadata": {
        "id": "nWDykIhFL0qZ"
      },
      "source": [
        "# Setup\n",
        "\n",
        "Please ensure you have imported a Gemini API key from AI Studio.\n",
        "You can do this directly in the Secrets tab on the left.\n",
        "\n",
        "After doing so, please run the setup cell below."
      ]
    },
    {
      "cell_type": "code",
      "source": [
        "!pip install -U -q \"google\"\n",
        "!pip install -U -q \"google.genai\""
      ],
      "metadata": {
        "id": "OKt6aX_6MqK_"
      },
      "execution_count": null,
      "outputs": []
    },
    {
      "cell_type": "code",
      "metadata": {
        "colab": {
          "base_uri": "https://localhost:8080/"
        },
        "id": "M_3EgHNzL0qb",
        "outputId": "9bfc28ef-30e7-4f06-e763-2d0e21af597a"
      },
      "source": [
        "\n",
        "import os\n",
        "from google.colab import userdata\n",
        "from google.colab import drive\n",
        "os.environ[\"GEMINI_API_KEY\"] = userdata.get(\"GEMINI_API_KEY\")\n",
        "\n",
        "drive.mount(\"/content/drive\")\n",
        "# Please ensure that uploaded files are available in the AI Studio folder or change the working folder.\n",
        "os.chdir(\"/content/drive/MyDrive/Google AI Studio\")"
      ],
      "execution_count": 2,
      "outputs": [
        {
          "output_type": "stream",
          "name": "stdout",
          "text": [
            "Mounted at /content/drive\n"
          ]
        }
      ]
    },
    {
      "cell_type": "markdown",
      "metadata": {
        "id": "s4UNnfvfL0qc"
      },
      "source": [
        "# Generated Code"
      ]
    },
    {
      "cell_type": "code",
      "metadata": {
        "colab": {
          "base_uri": "https://localhost:8080/"
        },
        "id": "xLGqNtmuL0qd",
        "outputId": "3b4aa0e7-78f1-49c0-9207-6209322cb0e4"
      },
      "source": [
        "import base64\n",
        "import os\n",
        "from google import genai\n",
        "from google.genai import types\n",
        "\n",
        "\n",
        "def generate():\n",
        "    client = genai.Client(\n",
        "        api_key=os.environ.get(\"GEMINI_API_KEY\"),\n",
        "    )\n",
        "\n",
        "    model = \"gemini-2.5-pro-exp-03-25\"\n",
        "    contents = [\n",
        "        types.Content(\n",
        "            role=\"user\",\n",
        "            parts=[\n",
        "                types.Part.from_text(text=\"\"\"cuales son las principales leyes que rigen la construccion en colombia a 2025\"\"\"),\n",
        "            ],\n",
        "        ),\n",
        "    ]\n",
        "    tools = [\n",
        "        types.Tool(google_search=types.GoogleSearch())\n",
        "    ]\n",
        "    generate_content_config = types.GenerateContentConfig(\n",
        "        tools=tools,\n",
        "        response_mime_type=\"text/plain\",\n",
        "    )\n",
        "\n",
        "    for chunk in client.models.generate_content_stream(\n",
        "        model=model,\n",
        "        contents=contents,\n",
        "        config=generate_content_config,\n",
        "    ):\n",
        "        print(chunk.text, end=\"\")\n",
        "\n",
        "if __name__ == \"__main__\":\n",
        "    generate()\n"
      ],
      "execution_count": 4,
      "outputs": [
        {
          "output_type": "stream",
          "name": "stdout",
          "text": [
            "A fecha de marzo de 2025, las principales leyes y normativas que rigen la construcción en Colombia son un conjunto de regulaciones a nivel nacional y local. Aquí se detallan las más importantes:\n",
            "\n",
            "1.  **Ley 400 de 1997 y el Reglamento Colombiano de Construcción Sismo Resistente (NSR-10):**\n",
            "    *   La Ley 400 de 1997 establece los criterios y requisitos mínimos para el diseño, construcción y supervisión técnica de edificaciones con el fin de que sean capaces de resistir fuerzas sísmicas y proteger la vida humana. Esta ley es el marco general.\n",
            "    *   El Reglamento NSR-10, expedido originalmente mediante el Decreto 926 de 2010 y con modificaciones posteriores (Decretos 2525 de 2010, 092 de 2011, 340 de 2012, y 945 de 2017), desarrolla técnicamente los requisitos de la Ley 400. Es de obligatorio cumplimiento en todo el territorio nacional para edificaciones nuevas. Define aspectos como los materiales, métodos de diseño, construcción, supervisión e inspección para garantizar la seguridad estructural ante sismos. Dado que el 87% de la población colombiana vive en zonas de amenaza sísmica intermedia o alta, esta norma es crucial.\n",
            "\n",
            "2.  **Ley 1796 de 2016 (Ley de Vivienda Segura):**\n",
            "    *   Esta ley se enfoca en la protección de los compradores de vivienda nueva.\n",
            "    *   Modificó aspectos de la Ley 400 de 1997, incrementando las exigencias de seguridad en las edificaciones.\n",
            "    *   Establece la obligación de amparar los perjuicios patrimoniales causados a los propietarios afectados por el colapso o amenaza de ruina de la edificación, como consecuencia de deficiencias en el proceso constructivo.\n",
            "    *   Introduce la figura de la **revisión independiente de diseños** para proyectos de más de 2.000 m² construidos.\n",
            "    *   Establece la obligatoriedad de la **supervisión técnica independiente** durante la construcción para ciertos tipos de edificaciones.\n",
            "    *   Crea la **Certificación Técnica de Ocupación**, expedida por el supervisor técnico independiente, que garantiza el cumplimiento de las normas de construcción.\n",
            "    *   Fortalece la función de los curadores urbanos y define responsabilidades profesionales. Su vigencia general inició el 13 de julio de 2016.\n",
            "\n",
            "3.  **Decreto 1077 de 2015 (Decreto Único Reglamentario del Sector Vivienda, Ciudad y Territorio):**\n",
            "    *   Compila gran parte de la normativa reglamentaria relacionada con vivienda, desarrollo urbano y territorial.\n",
            "    *   Incluye aspectos sobre licencias urbanísticas (construcción, urbanización, demolición), planes de ordenamiento territorial, y gestión del riesgo.\n",
            "    *   Ha sido modificado varias veces para actualizar y ajustar regulaciones. Por ejemplo, el Decreto 945 de 2017 reglamentó aspectos de la Ley 1796 y modificó la NSR-10.\n",
            "    *   Recientemente, el Decreto 0074 de 2025 adicionó parágrafos transitorios a este decreto para extender la vigencia de licencias urbanísticas y sus revalidaciones hasta junio de 2026, buscando reactivar la economía.\n",
            "\n",
            "4.  **Planes de Ordenamiento Territorial (POT) y Normas Urbanísticas Municipales/Distritales:**\n",
            "    *   Cada municipio o distrito define sus propias normas urbanísticas a través de su POT.\n",
            "    *   Estos planes regulan el uso del suelo, las densidades de construcción, alturas permitidas, aislamientos, parqueaderos, y otros parámetros específicos para cada zona del territorio. Son fundamentales para la obtención de licencias de construcción.\n",
            "\n",
            "5.  **Otras Normativas Relevantes:**\n",
            "    *   **Reglamento Técnico de Instalaciones Eléctricas (RETIE):** Establece los requisitos de seguridad para las instalaciones eléctricas.\n",
            "    *   **Reglamento Técnico para el Sector de Agua Potable y Saneamiento Básico (RAS):** Define los lineamientos técnicos para sistemas de acueducto y alcantarillado (adoptado por Decreto 0330 de 2017).\n",
            "    *   **Reglamento de Construcción Sostenible (Resolución 549 de 2015):** Fomenta la eficiencia energética y el uso eficiente del agua en nuevas edificaciones.\n",
            "    *   **Normativa de Seguridad y Salud en el Trabajo (SST):** Incluye la Ley 9 de 1979, el Decreto 1072 de 2015 (que exige la implementación del Sistema de Gestión de SST), y regulaciones específicas para el sector construcción.\n",
            "    *   **Normas Técnicas Colombianas (NTC):** Desarrolladas por ICONTEC, establecen especificaciones técnicas para materiales (como la NTC 4595 para ambientes escolares) y procesos constructivos.\n",
            "    *   **Normativa Ambiental:** Leyes y resoluciones que regulan aspectos ambientales, como vertimientos (Resolución 631 de 2015) y lineamientos para áreas específicas (como el proyecto de resolución para la Sabana de Bogotá en 2025).\n",
            "\n",
            "Es crucial tener en cuenta que la normativa está en constante actualización y pueden existir decretos o resoluciones recientes que modifiquen o adicionen requisitos. Además, la aplicación específica puede variar según el municipio y el tipo de proyecto."
          ]
        }
      ]
    }
  ]
}